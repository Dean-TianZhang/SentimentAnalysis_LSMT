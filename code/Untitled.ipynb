{
 "cells": [
  {
   "cell_type": "code",
   "execution_count": 1,
   "metadata": {
    "collapsed": false
   },
   "outputs": [
    {
     "name": "stderr",
     "output_type": "stream",
     "text": [
      "Using TensorFlow backend.\n"
     ]
    }
   ],
   "source": [
    "from __future__ import print_function\n",
    "import numpy as np\n",
    "from numpy import distutils\n",
    "\n",
    "from keras.preprocessing import sequence\n",
    "from keras.losses import categorical_crossentropy\n",
    "from keras.models import model_from_json\n",
    "import glob\n",
    "import os\n",
    "import re\n",
    "from collections import OrderedDict\n",
    "from nltk.corpus import stopwords\n",
    "import _pickle as pkl\n",
    "from keras import optimizers , utils\n",
    "from gensim.models.word2vec import Word2Vec\n",
    "from gensim.corpora.dictionary import Dictionary\n",
    "from keras.models import Model\n",
    "from keras.models import Sequential\n",
    "from keras.layers import Dense, Dropout, Embedding, LSTM, Input, merge,Conv1D,MaxPooling1D , Activation\n",
    "from nltk.corpus import stopwords\n",
    "from keras.preprocessing.text import Tokenizer\n",
    "from keras.preprocessing.sequence import pad_sequences"
   ]
  },
  {
   "cell_type": "code",
   "execution_count": 2,
   "metadata": {
    "collapsed": false
   },
   "outputs": [
    {
     "name": "stdout",
     "output_type": "stream",
     "text": [
      "Loaded model from disk\n"
     ]
    }
   ],
   "source": [
    "json_file = open('model_15.json', 'r')\n",
    "loaded_model_json = json_file.read()\n",
    "json_file.close()\n",
    "model = model_from_json(loaded_model_json)\n",
    "# load weights into new model\n",
    "model.load_weights(\"model_15.h5\")\n",
    "print(\"Loaded model from disk\")"
   ]
  },
  {
   "cell_type": "code",
   "execution_count": 11,
   "metadata": {
    "collapsed": false
   },
   "outputs": [],
   "source": [
    "from keras.utils import plot_model\n",
    "plot_model(model, to_file='model.png')"
   ]
  },
  {
   "cell_type": "code",
   "execution_count": 10,
   "metadata": {
    "collapsed": false
   },
   "outputs": [
    {
     "data": {
      "image/svg+xml": [
       "<svg height=\"483pt\" viewBox=\"0.00 0.00 219.61 483.00\" width=\"220pt\" xmlns=\"http://www.w3.org/2000/svg\" xmlns:xlink=\"http://www.w3.org/1999/xlink\">\n",
       "<g class=\"graph\" id=\"graph0\" transform=\"scale(1 1) rotate(0) translate(4 479)\">\n",
       "<title>G</title>\n",
       "<polygon fill=\"#ffffff\" points=\"-4,4 -4,-479 215.6104,-479 215.6104,4 -4,4\" stroke=\"transparent\"/>\n",
       "<!-- 4864260024 -->\n",
       "<g class=\"node\" id=\"node1\">\n",
       "<title>4864260024</title>\n",
       "<polygon fill=\"none\" points=\"7.0205,-438.5 7.0205,-474.5 204.5898,-474.5 204.5898,-438.5 7.0205,-438.5\" stroke=\"#000000\"/>\n",
       "<text fill=\"#000000\" font-family=\"Times,serif\" font-size=\"14.00\" text-anchor=\"middle\" x=\"105.8052\" y=\"-452.3\">embedding_1_input: InputLayer</text>\n",
       "</g>\n",
       "<!-- 4864259912 -->\n",
       "<g class=\"node\" id=\"node2\">\n",
       "<title>4864259912</title>\n",
       "<polygon fill=\"none\" points=\"23.7344,-365.5 23.7344,-401.5 187.876,-401.5 187.876,-365.5 23.7344,-365.5\" stroke=\"#000000\"/>\n",
       "<text fill=\"#000000\" font-family=\"Times,serif\" font-size=\"14.00\" text-anchor=\"middle\" x=\"105.8052\" y=\"-379.3\">embedding_1: Embedding</text>\n",
       "</g>\n",
       "<!-- 4864260024&#45;&gt;4864259912 -->\n",
       "<g class=\"edge\" id=\"edge1\">\n",
       "<title>4864260024-&gt;4864259912</title>\n",
       "<path d=\"M105.8052,-438.4551C105.8052,-430.3828 105.8052,-420.6764 105.8052,-411.6817\" fill=\"none\" stroke=\"#000000\"/>\n",
       "<polygon fill=\"#000000\" points=\"109.3053,-411.5903 105.8052,-401.5904 102.3053,-411.5904 109.3053,-411.5903\" stroke=\"#000000\"/>\n",
       "</g>\n",
       "<!-- 4864260752 -->\n",
       "<g class=\"node\" id=\"node3\">\n",
       "<title>4864260752</title>\n",
       "<polygon fill=\"none\" points=\"42.7793,-292.5 42.7793,-328.5 168.8311,-328.5 168.8311,-292.5 42.7793,-292.5\" stroke=\"#000000\"/>\n",
       "<text fill=\"#000000\" font-family=\"Times,serif\" font-size=\"14.00\" text-anchor=\"middle\" x=\"105.8052\" y=\"-306.3\">conv1d_1: Conv1D</text>\n",
       "</g>\n",
       "<!-- 4864259912&#45;&gt;4864260752 -->\n",
       "<g class=\"edge\" id=\"edge2\">\n",
       "<title>4864259912-&gt;4864260752</title>\n",
       "<path d=\"M105.8052,-365.4551C105.8052,-357.3828 105.8052,-347.6764 105.8052,-338.6817\" fill=\"none\" stroke=\"#000000\"/>\n",
       "<polygon fill=\"#000000\" points=\"109.3053,-338.5903 105.8052,-328.5904 102.3053,-338.5904 109.3053,-338.5903\" stroke=\"#000000\"/>\n",
       "</g>\n",
       "<!-- 4864260976 -->\n",
       "<g class=\"node\" id=\"node4\">\n",
       "<title>4864260976</title>\n",
       "<polygon fill=\"none\" points=\"0,-219.5 0,-255.5 211.6104,-255.5 211.6104,-219.5 0,-219.5\" stroke=\"#000000\"/>\n",
       "<text fill=\"#000000\" font-family=\"Times,serif\" font-size=\"14.00\" text-anchor=\"middle\" x=\"105.8052\" y=\"-233.3\">max_pooling1d_1: MaxPooling1D</text>\n",
       "</g>\n",
       "<!-- 4864260752&#45;&gt;4864260976 -->\n",
       "<g class=\"edge\" id=\"edge3\">\n",
       "<title>4864260752-&gt;4864260976</title>\n",
       "<path d=\"M105.8052,-292.4551C105.8052,-284.3828 105.8052,-274.6764 105.8052,-265.6817\" fill=\"none\" stroke=\"#000000\"/>\n",
       "<polygon fill=\"#000000\" points=\"109.3053,-265.5903 105.8052,-255.5904 102.3053,-265.5904 109.3053,-265.5903\" stroke=\"#000000\"/>\n",
       "</g>\n",
       "<!-- 4864523960 -->\n",
       "<g class=\"node\" id=\"node5\">\n",
       "<title>4864523960</title>\n",
       "<polygon fill=\"none\" points=\"42.0034,-146.5 42.0034,-182.5 169.6069,-182.5 169.6069,-146.5 42.0034,-146.5\" stroke=\"#000000\"/>\n",
       "<text fill=\"#000000\" font-family=\"Times,serif\" font-size=\"14.00\" text-anchor=\"middle\" x=\"105.8052\" y=\"-160.3\">dropout_1: Dropout</text>\n",
       "</g>\n",
       "<!-- 4864260976&#45;&gt;4864523960 -->\n",
       "<g class=\"edge\" id=\"edge4\">\n",
       "<title>4864260976-&gt;4864523960</title>\n",
       "<path d=\"M105.8052,-219.4551C105.8052,-211.3828 105.8052,-201.6764 105.8052,-192.6817\" fill=\"none\" stroke=\"#000000\"/>\n",
       "<polygon fill=\"#000000\" points=\"109.3053,-192.5903 105.8052,-182.5904 102.3053,-192.5904 109.3053,-192.5903\" stroke=\"#000000\"/>\n",
       "</g>\n",
       "<!-- 4864522112 -->\n",
       "<g class=\"node\" id=\"node6\">\n",
       "<title>4864522112</title>\n",
       "<polygon fill=\"none\" points=\"56.3828,-73.5 56.3828,-109.5 155.2275,-109.5 155.2275,-73.5 56.3828,-73.5\" stroke=\"#000000\"/>\n",
       "<text fill=\"#000000\" font-family=\"Times,serif\" font-size=\"14.00\" text-anchor=\"middle\" x=\"105.8052\" y=\"-87.3\">lstm_1: LSTM</text>\n",
       "</g>\n",
       "<!-- 4864523960&#45;&gt;4864522112 -->\n",
       "<g class=\"edge\" id=\"edge5\">\n",
       "<title>4864523960-&gt;4864522112</title>\n",
       "<path d=\"M105.8052,-146.4551C105.8052,-138.3828 105.8052,-128.6764 105.8052,-119.6817\" fill=\"none\" stroke=\"#000000\"/>\n",
       "<polygon fill=\"#000000\" points=\"109.3053,-119.5903 105.8052,-109.5904 102.3053,-119.5904 109.3053,-119.5903\" stroke=\"#000000\"/>\n",
       "</g>\n",
       "<!-- 4864735944 -->\n",
       "<g class=\"node\" id=\"node7\">\n",
       "<title>4864735944</title>\n",
       "<polygon fill=\"none\" points=\"53.6792,-.5 53.6792,-36.5 157.9312,-36.5 157.9312,-.5 53.6792,-.5\" stroke=\"#000000\"/>\n",
       "<text fill=\"#000000\" font-family=\"Times,serif\" font-size=\"14.00\" text-anchor=\"middle\" x=\"105.8052\" y=\"-14.3\">dense_1: Dense</text>\n",
       "</g>\n",
       "<!-- 4864522112&#45;&gt;4864735944 -->\n",
       "<g class=\"edge\" id=\"edge6\">\n",
       "<title>4864522112-&gt;4864735944</title>\n",
       "<path d=\"M105.8052,-73.4551C105.8052,-65.3828 105.8052,-55.6764 105.8052,-46.6817\" fill=\"none\" stroke=\"#000000\"/>\n",
       "<polygon fill=\"#000000\" points=\"109.3053,-46.5903 105.8052,-36.5904 102.3053,-46.5904 109.3053,-46.5903\" stroke=\"#000000\"/>\n",
       "</g>\n",
       "</g>\n",
       "</svg>"
      ],
      "text/plain": [
       "<IPython.core.display.SVG object>"
      ]
     },
     "execution_count": 10,
     "metadata": {},
     "output_type": "execute_result"
    }
   ],
   "source": [
    "from IPython.display import SVG\n",
    "from keras.utils.vis_utils import model_to_dot\n",
    "#from keras.utils.visualize_util import plot\n",
    "\n",
    "SVG(model_to_dot(model).create(prog='dot', format='svg'))"
   ]
  },
  {
   "cell_type": "code",
   "execution_count": 10,
   "metadata": {
    "collapsed": false
   },
   "outputs": [],
   "source": [
    "import keras.backend as K\n",
    "get_LSTM_output = K.function([model.layers[0].input],\n",
    "                             [model.layers[0].output])"
   ]
  },
  {
   "cell_type": "code",
   "execution_count": 13,
   "metadata": {
    "collapsed": false
   },
   "outputs": [
    {
     "data": {
      "text/plain": [
       "<keras.backend.tensorflow_backend.Function at 0x124321b38>"
      ]
     },
     "execution_count": 13,
     "metadata": {},
     "output_type": "execute_result"
    }
   ],
   "source": [
    "get_LSTM_output"
   ]
  },
  {
   "cell_type": "code",
   "execution_count": 12,
   "metadata": {
    "collapsed": false
   },
   "outputs": [
    {
     "name": "stdout",
     "output_type": "stream",
     "text": [
      "Training\n",
      "Epoch 0 / 15\n"
     ]
    },
    {
     "ename": "NameError",
     "evalue": "name 'cos' is not defined",
     "output_type": "error",
     "traceback": [
      "\u001b[0;31m---------------------------------------------------------------------------\u001b[0m",
      "\u001b[0;31mNameError\u001b[0m                                 Traceback (most recent call last)",
      "\u001b[0;32m<ipython-input-12-46d5e60536a0>\u001b[0m in \u001b[0;36m<module>\u001b[0;34m()\u001b[0m\n\u001b[1;32m      2\u001b[0m \u001b[0;32mfor\u001b[0m \u001b[0mi\u001b[0m \u001b[0;32min\u001b[0m \u001b[0mrange\u001b[0m\u001b[0;34m(\u001b[0m\u001b[0;36m15\u001b[0m\u001b[0;34m)\u001b[0m\u001b[0;34m:\u001b[0m\u001b[0;34m\u001b[0m\u001b[0m\n\u001b[1;32m      3\u001b[0m     \u001b[0mprint\u001b[0m\u001b[0;34m(\u001b[0m\u001b[0;34m'Epoch'\u001b[0m\u001b[0;34m,\u001b[0m \u001b[0mi\u001b[0m\u001b[0;34m,\u001b[0m \u001b[0;34m'/'\u001b[0m\u001b[0;34m,\u001b[0m \u001b[0;36m15\u001b[0m\u001b[0;34m)\u001b[0m\u001b[0;34m\u001b[0m\u001b[0m\n\u001b[0;32m----> 4\u001b[0;31m     model.fit(cos,\n\u001b[0m\u001b[1;32m      5\u001b[0m               \u001b[0mexpected_output\u001b[0m\u001b[0;34m,\u001b[0m\u001b[0;34m\u001b[0m\u001b[0m\n\u001b[1;32m      6\u001b[0m               \u001b[0mbatch_size\u001b[0m\u001b[0;34m=\u001b[0m\u001b[0mbatch_size\u001b[0m\u001b[0;34m,\u001b[0m\u001b[0;34m\u001b[0m\u001b[0m\n",
      "\u001b[0;31mNameError\u001b[0m: name 'cos' is not defined"
     ]
    }
   ],
   "source": [
    "print('Training')\n",
    "for i in range(15):\n",
    "    print('Epoch', i, '/', 15)\n",
    "    model.fit(cos,\n",
    "              expected_output,\n",
    "              batch_size=batch_size,\n",
    "              verbose=1,\n",
    "              nb_epoch=1,\n",
    "              shuffle=False)\n",
    "\n",
    "    for layer in model.layers:\n",
    "        if 'LSTM' in str(layer):\n",
    "            print('states[0] = {}'.format(K.get_value(layer.states[0])))\n",
    "            print('states[1] = {}'.format(K.get_value(layer.states[1])))\n",
    "\n",
    "            print('Input')\n",
    "            print('b_i = {}'.format(K.get_value(layer.b_i)))\n",
    "            print('W_i = {}'.format(K.get_value(layer.W_i)))\n",
    "            print('U_i = {}'.format(K.get_value(layer.U_i)))\n",
    "\n",
    "            print('Forget')\n",
    "            print('b_f = {}'.format(K.get_value(layer.b_f)))\n",
    "            print('W_f = {}'.format(K.get_value(layer.W_f)))\n",
    "            print('U_f = {}'.format(K.get_value(layer.U_f)))\n",
    "\n",
    "            print('Cell')\n",
    "            print('b_c = {}'.format(K.get_value(layer.b_c)))\n",
    "            print('W_c = {}'.format(K.get_value(layer.W_c)))\n",
    "            print('U_c = {}'.format(K.get_value(layer.U_c)))\n",
    "\n",
    "            print('Output')\n",
    "            print('b_o = {}'.format(K.get_value(layer.b_o)))\n",
    "            print('W_o = {}'.format(K.get_value(layer.W_o)))\n",
    "            print('U_o = {}'.format(K.get_value(layer.U_o)))\n",
    "\n",
    "    # output of the first batch value of the batch after the first fit().\n",
    "    first_batch_element = np.expand_dims(cos[0], axis=1)  # (1, 1) to (1, 1, 1)\n",
    "    print('output = {}'.format(get_LSTM_output([first_batch_element])[0].flatten()))\n",
    "\n",
    "    model.reset_states()\n",
    "\n",
    "print('Predicting')\n",
    "predicted_output = model.predict(cos, batch_size=batch_size)\n",
    "\n",
    "print('Ploting Results')\n",
    "plt.subplot(2, 1, 1)\n",
    "plt.plot(expected_output)\n",
    "plt.title('Expected')\n",
    "plt.subplot(2, 1, 2)\n",
    "plt.plot(predicted_output)\n",
    "plt.title('Predicted')\n",
    "plt.show()"
   ]
  },
  {
   "cell_type": "code",
   "execution_count": null,
   "metadata": {
    "collapsed": true
   },
   "outputs": [],
   "source": []
  }
 ],
 "metadata": {
  "anaconda-cloud": {},
  "kernelspec": {
   "display_name": "Python [default]",
   "language": "python",
   "name": "python3"
  },
  "language_info": {
   "codemirror_mode": {
    "name": "ipython",
    "version": 3
   },
   "file_extension": ".py",
   "mimetype": "text/x-python",
   "name": "python",
   "nbconvert_exporter": "python",
   "pygments_lexer": "ipython3",
   "version": "3.5.2"
  }
 },
 "nbformat": 4,
 "nbformat_minor": 2
}
